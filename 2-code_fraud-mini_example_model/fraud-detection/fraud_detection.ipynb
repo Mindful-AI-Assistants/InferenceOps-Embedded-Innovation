{
 "cells": [
  {
   "cell_type": "code",
   "execution_count": 1,
   "id": "fraud-detection-example",
   "metadata": {},
   "outputs": [],
   "source": [
    "import random\n",
    "\n",
    "class InferenceOpsPlatform:\n",
    "    def __init__(self):\n",
    "        self.logs = []\n",
    "\n",
    "    def predict(self, transaction):\n",
    "        decision = 'REJECT' if random.random() > 0.8 else 'APPROVE'\n",
    "        self.logs.append({'transaction': transaction, 'decision': decision})\n",
    "        return decision\n",
    "\n",
    "    def audit_logs(self):\n",
    "        return self.logs\n",
    "\n",
    "platform = InferenceOpsPlatform()\n",
    "transactions = [{'id': 1, 'amount': 100}, {'id': 2, 'amount': 2500}, {'id': 3, 'amount': 50}]\n",
    "\n",
    "for t in transactions:\n",
    "    print(f"Transaction {t['id']} -> {platform.predict(t)}")\n",
    "\n",
    "print('\nAudit Logs:')\n",
    "for log in platform.audit_logs():\n",
    "    print(log)"
   ]
  }
 ],
 "metadata": {
  "kernelspec": {
   "display_name": "Python 3",
   "language": "python",
   "name": "python3"
  },
  "language_info": {
   "name": "python"
  }
 },
 "nbformat": 4,
 "nbformat_minor": 5
}